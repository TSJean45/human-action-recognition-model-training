{
  "nbformat": 4,
  "nbformat_minor": 0,
  "metadata": {
    "colab": {
      "provenance": [],
      "mount_file_id": "19TRL1KOTNr3A9IEr5sBVYYPClkhzHsID",
      "authorship_tag": "ABX9TyOx3W/jZKDorRo4RD6VGf/i",
      "include_colab_link": true
    },
    "kernelspec": {
      "name": "python3",
      "display_name": "Python 3"
    },
    "language_info": {
      "name": "python"
    }
  },
  "cells": [
    {
      "cell_type": "markdown",
      "metadata": {
        "id": "view-in-github",
        "colab_type": "text"
      },
      "source": [
        "<a href=\"https://colab.research.google.com/github/TSJean45/human-action-recognition-model-training/blob/main/knn_model_training.ipynb\" target=\"_parent\"><img src=\"https://colab.research.google.com/assets/colab-badge.svg\" alt=\"Open In Colab\"/></a>"
      ]
    },
    {
      "cell_type": "code",
      "execution_count": null,
      "metadata": {
        "id": "pKb21tGMB8Sf"
      },
      "outputs": [],
      "source": [
        "import pandas as pd\n",
        "import glob\n",
        "import json\n",
        "import os\n",
        "import ast\n",
        "import numpy as np\n",
        "from sklearn.model_selection import train_test_split\n",
        "from sklearn.preprocessing import StandardScaler\n",
        "from sklearn.preprocessing import LabelEncoder\n",
        "from tensorflow.keras.utils import to_categorical\n",
        "from keras.layers import Dense,Conv1D,Flatten,MaxPool1D\n",
        "from keras.models import Sequential\n",
        "import matplotlib.pyplot as plt"
      ]
    },
    {
      "cell_type": "code",
      "source": [
        "path = '/content/drive/MyDrive/Dataset/angle/'\n",
        "dir_list = os.listdir(path)\n",
        "\n",
        "print(dir_list)"
      ],
      "metadata": {
        "colab": {
          "base_uri": "https://localhost:8080/"
        },
        "id": "IczWTE8GdZhQ",
        "outputId": "e5a283a0-0ac7-40f2-c46f-997fc31edf09"
      },
      "execution_count": null,
      "outputs": [
        {
          "output_type": "stream",
          "name": "stdout",
          "text": [
            "['sit', 'walk', 'jump', 'clap', 'wave', 'stand', 'run']\n"
          ]
        }
      ]
    },
    {
      "cell_type": "code",
      "source": [
        "def extract_angles(file_path):\n",
        "    with open(file_path, 'r') as f:\n",
        "        data = json.load(f)\n",
        "    angle_list = []\n",
        "    for frame in data[\"data\"]:\n",
        "        for angle in frame[\"angle\"][\"data\"]:\n",
        "            angle_list.append(float(angle[\"angle\"]))\n",
        "    return angle_list"
      ],
      "metadata": {
        "id": "mGR0C9YCYY3f"
      },
      "execution_count": null,
      "outputs": []
    },
    {
      "cell_type": "code",
      "source": [
        "all_rows = []\n",
        "for action in dir_list:\n",
        "    rows = []\n",
        "    path = '/content/drive/MyDrive/Dataset/angle/'+action\n",
        "    file = glob.glob(path+'/*.json')\n",
        "    for filename in file:\n",
        "        angle = extract_angles(filename)\n",
        "        row = {'angles': angle, 'action': action}\n",
        "        rows.append(row)\n",
        "    rows = np.array(rows)\n",
        "    all_rows.extend(rows)\n",
        "data = pd.DataFrame(all_rows)    \n",
        "data"
      ],
      "metadata": {
        "colab": {
          "base_uri": "https://localhost:8080/",
          "height": 423
        },
        "id": "YopwKRcXbsHY",
        "outputId": "b5622b50-63ae-4654-dfe0-fae859fc8c2e"
      },
      "execution_count": null,
      "outputs": [
        {
          "output_type": "execute_result",
          "data": {
            "text/plain": [
              "                                                angles action\n",
              "0    [88.56790381583536, 117.5528115767178, 90.0, 1...    sit\n",
              "1    [40.10090754621224, 46.16913932790743, 88.5311...    sit\n",
              "2    [81.02737338510362, 351.0273733851036, 68.1985...    sit\n",
              "3    [92.04540848888723, 85.23635830927383, 117.407...    sit\n",
              "4    [55.92280471986926, 70.14478563067895, 99.7275...    sit\n",
              "..                                                 ...    ...\n",
              "276  [79.11447294534128, 97.12501634890181, 98.7461...    run\n",
              "277  [71.56505117707799, 26.56505117707799, 50.1944...    run\n",
              "278  [0.0, 349.695153531234, 95.71059313749963, 204...    run\n",
              "279  [132.51044707800085, 108.43494882292201, 65.77...    run\n",
              "280  [120.25643716352926, 352.8749836510982, 63.434...    run\n",
              "\n",
              "[281 rows x 2 columns]"
            ],
            "text/html": [
              "\n",
              "  <div id=\"df-e3cdffa7-b7ee-45dd-85f5-367c659e6dee\">\n",
              "    <div class=\"colab-df-container\">\n",
              "      <div>\n",
              "<style scoped>\n",
              "    .dataframe tbody tr th:only-of-type {\n",
              "        vertical-align: middle;\n",
              "    }\n",
              "\n",
              "    .dataframe tbody tr th {\n",
              "        vertical-align: top;\n",
              "    }\n",
              "\n",
              "    .dataframe thead th {\n",
              "        text-align: right;\n",
              "    }\n",
              "</style>\n",
              "<table border=\"1\" class=\"dataframe\">\n",
              "  <thead>\n",
              "    <tr style=\"text-align: right;\">\n",
              "      <th></th>\n",
              "      <th>angles</th>\n",
              "      <th>action</th>\n",
              "    </tr>\n",
              "  </thead>\n",
              "  <tbody>\n",
              "    <tr>\n",
              "      <th>0</th>\n",
              "      <td>[88.56790381583536, 117.5528115767178, 90.0, 1...</td>\n",
              "      <td>sit</td>\n",
              "    </tr>\n",
              "    <tr>\n",
              "      <th>1</th>\n",
              "      <td>[40.10090754621224, 46.16913932790743, 88.5311...</td>\n",
              "      <td>sit</td>\n",
              "    </tr>\n",
              "    <tr>\n",
              "      <th>2</th>\n",
              "      <td>[81.02737338510362, 351.0273733851036, 68.1985...</td>\n",
              "      <td>sit</td>\n",
              "    </tr>\n",
              "    <tr>\n",
              "      <th>3</th>\n",
              "      <td>[92.04540848888723, 85.23635830927383, 117.407...</td>\n",
              "      <td>sit</td>\n",
              "    </tr>\n",
              "    <tr>\n",
              "      <th>4</th>\n",
              "      <td>[55.92280471986926, 70.14478563067895, 99.7275...</td>\n",
              "      <td>sit</td>\n",
              "    </tr>\n",
              "    <tr>\n",
              "      <th>...</th>\n",
              "      <td>...</td>\n",
              "      <td>...</td>\n",
              "    </tr>\n",
              "    <tr>\n",
              "      <th>276</th>\n",
              "      <td>[79.11447294534128, 97.12501634890181, 98.7461...</td>\n",
              "      <td>run</td>\n",
              "    </tr>\n",
              "    <tr>\n",
              "      <th>277</th>\n",
              "      <td>[71.56505117707799, 26.56505117707799, 50.1944...</td>\n",
              "      <td>run</td>\n",
              "    </tr>\n",
              "    <tr>\n",
              "      <th>278</th>\n",
              "      <td>[0.0, 349.695153531234, 95.71059313749963, 204...</td>\n",
              "      <td>run</td>\n",
              "    </tr>\n",
              "    <tr>\n",
              "      <th>279</th>\n",
              "      <td>[132.51044707800085, 108.43494882292201, 65.77...</td>\n",
              "      <td>run</td>\n",
              "    </tr>\n",
              "    <tr>\n",
              "      <th>280</th>\n",
              "      <td>[120.25643716352926, 352.8749836510982, 63.434...</td>\n",
              "      <td>run</td>\n",
              "    </tr>\n",
              "  </tbody>\n",
              "</table>\n",
              "<p>281 rows × 2 columns</p>\n",
              "</div>\n",
              "      <button class=\"colab-df-convert\" onclick=\"convertToInteractive('df-e3cdffa7-b7ee-45dd-85f5-367c659e6dee')\"\n",
              "              title=\"Convert this dataframe to an interactive table.\"\n",
              "              style=\"display:none;\">\n",
              "        \n",
              "  <svg xmlns=\"http://www.w3.org/2000/svg\" height=\"24px\"viewBox=\"0 0 24 24\"\n",
              "       width=\"24px\">\n",
              "    <path d=\"M0 0h24v24H0V0z\" fill=\"none\"/>\n",
              "    <path d=\"M18.56 5.44l.94 2.06.94-2.06 2.06-.94-2.06-.94-.94-2.06-.94 2.06-2.06.94zm-11 1L8.5 8.5l.94-2.06 2.06-.94-2.06-.94L8.5 2.5l-.94 2.06-2.06.94zm10 10l.94 2.06.94-2.06 2.06-.94-2.06-.94-.94-2.06-.94 2.06-2.06.94z\"/><path d=\"M17.41 7.96l-1.37-1.37c-.4-.4-.92-.59-1.43-.59-.52 0-1.04.2-1.43.59L10.3 9.45l-7.72 7.72c-.78.78-.78 2.05 0 2.83L4 21.41c.39.39.9.59 1.41.59.51 0 1.02-.2 1.41-.59l7.78-7.78 2.81-2.81c.8-.78.8-2.07 0-2.86zM5.41 20L4 18.59l7.72-7.72 1.47 1.35L5.41 20z\"/>\n",
              "  </svg>\n",
              "      </button>\n",
              "      \n",
              "  <style>\n",
              "    .colab-df-container {\n",
              "      display:flex;\n",
              "      flex-wrap:wrap;\n",
              "      gap: 12px;\n",
              "    }\n",
              "\n",
              "    .colab-df-convert {\n",
              "      background-color: #E8F0FE;\n",
              "      border: none;\n",
              "      border-radius: 50%;\n",
              "      cursor: pointer;\n",
              "      display: none;\n",
              "      fill: #1967D2;\n",
              "      height: 32px;\n",
              "      padding: 0 0 0 0;\n",
              "      width: 32px;\n",
              "    }\n",
              "\n",
              "    .colab-df-convert:hover {\n",
              "      background-color: #E2EBFA;\n",
              "      box-shadow: 0px 1px 2px rgba(60, 64, 67, 0.3), 0px 1px 3px 1px rgba(60, 64, 67, 0.15);\n",
              "      fill: #174EA6;\n",
              "    }\n",
              "\n",
              "    [theme=dark] .colab-df-convert {\n",
              "      background-color: #3B4455;\n",
              "      fill: #D2E3FC;\n",
              "    }\n",
              "\n",
              "    [theme=dark] .colab-df-convert:hover {\n",
              "      background-color: #434B5C;\n",
              "      box-shadow: 0px 1px 3px 1px rgba(0, 0, 0, 0.15);\n",
              "      filter: drop-shadow(0px 1px 2px rgba(0, 0, 0, 0.3));\n",
              "      fill: #FFFFFF;\n",
              "    }\n",
              "  </style>\n",
              "\n",
              "      <script>\n",
              "        const buttonEl =\n",
              "          document.querySelector('#df-e3cdffa7-b7ee-45dd-85f5-367c659e6dee button.colab-df-convert');\n",
              "        buttonEl.style.display =\n",
              "          google.colab.kernel.accessAllowed ? 'block' : 'none';\n",
              "\n",
              "        async function convertToInteractive(key) {\n",
              "          const element = document.querySelector('#df-e3cdffa7-b7ee-45dd-85f5-367c659e6dee');\n",
              "          const dataTable =\n",
              "            await google.colab.kernel.invokeFunction('convertToInteractive',\n",
              "                                                     [key], {});\n",
              "          if (!dataTable) return;\n",
              "\n",
              "          const docLinkHtml = 'Like what you see? Visit the ' +\n",
              "            '<a target=\"_blank\" href=https://colab.research.google.com/notebooks/data_table.ipynb>data table notebook</a>'\n",
              "            + ' to learn more about interactive tables.';\n",
              "          element.innerHTML = '';\n",
              "          dataTable['output_type'] = 'display_data';\n",
              "          await google.colab.output.renderOutput(dataTable, element);\n",
              "          const docLink = document.createElement('div');\n",
              "          docLink.innerHTML = docLinkHtml;\n",
              "          element.appendChild(docLink);\n",
              "        }\n",
              "      </script>\n",
              "    </div>\n",
              "  </div>\n",
              "  "
            ]
          },
          "metadata": {},
          "execution_count": 30
        }
      ]
    },
    {
      "cell_type": "code",
      "source": [
        "x = []\n",
        "for row in data[\"angles\"].values:\n",
        "  x.append(row)\n",
        "\n",
        "x = np.asarray(x)\n",
        "y = data[\"action\"].values"
      ],
      "metadata": {
        "id": "Do2aAdlVzzyj"
      },
      "execution_count": null,
      "outputs": []
    },
    {
      "cell_type": "code",
      "source": [
        "x_train, x_test, y_train, y_test = train_test_split(x, y, test_size=0.3, random_state=42)"
      ],
      "metadata": {
        "id": "7hkrJ3UGawRZ"
      },
      "execution_count": null,
      "outputs": []
    },
    {
      "cell_type": "code",
      "source": [
        "encoder=LabelEncoder()\n",
        "y_train=encoder.fit_transform(y_train)\n",
        "y_train=to_categorical(y_train)\n",
        "\n",
        "y_test=encoder.fit_transform(y_test)\n",
        "y_test=to_categorical(y_test)"
      ],
      "metadata": {
        "id": "4r1kqiWfbHOE"
      },
      "execution_count": null,
      "outputs": []
    },
    {
      "cell_type": "code",
      "source": [
        "def train_model(model, x_train, y_train, x_test,y_test):\n",
        "    model.compile(optimizer=\"adam\", loss=\"categorical_crossentropy\", metrics=[\"accuracy\"])\n",
        "    model.fit(x_train, y_train, epochs=20)\n",
        "    results = model.evaluate(x_test, y_test)"
      ],
      "metadata": {
        "id": "S91O0wGLCErT"
      },
      "execution_count": null,
      "outputs": []
    },
    {
      "cell_type": "code",
      "source": [
        "cnn = Sequential()\n",
        "x_train = np.reshape(x_train, (x_train.shape[0], x_train.shape[1], 1))\n",
        "x_test = np.reshape(x_test, (x_test.shape[0], x_test.shape[1], 1))\n",
        "cnn.add(Conv1D(filters=15, kernel_size=3, activation=\"relu\", input_shape=(x_train.shape[1], 1)))\n",
        "\n",
        "cnn.add(MaxPool1D(pool_size=2, strides=2))\n",
        "cnn.add(Conv1D(filters=15, kernel_size=3, activation=\"relu\"))\n",
        "cnn.add(MaxPool1D(pool_size=2, strides=2))\n",
        "cnn.add(Flatten())"
      ],
      "metadata": {
        "id": "vItYllYgb1cr"
      },
      "execution_count": null,
      "outputs": []
    },
    {
      "cell_type": "code",
      "source": [
        "cnn.add(Dense(units=196,activation=\"relu\"))\n",
        "cnn.add(Dense(units=196,activation=\"sigmoid\"))\n",
        "cnn.add(Dense(units=7, activation=\"softmax\"))"
      ],
      "metadata": {
        "id": "2Z7cB9X2cOHD"
      },
      "execution_count": null,
      "outputs": []
    },
    {
      "cell_type": "code",
      "source": [
        "train_model(cnn, x_train, y_train, x_test,y_test)"
      ],
      "metadata": {
        "colab": {
          "base_uri": "https://localhost:8080/"
        },
        "id": "wo1EsqHicSux",
        "outputId": "8fb05769-46bf-4e30-c448-a89a4aaefa8b"
      },
      "execution_count": null,
      "outputs": [
        {
          "output_type": "stream",
          "name": "stdout",
          "text": [
            "Epoch 1/20\n",
            "7/7 [==============================] - 2s 10ms/step - loss: 2.0024 - accuracy: 0.1684\n",
            "Epoch 2/20\n",
            "7/7 [==============================] - 0s 10ms/step - loss: 1.8110 - accuracy: 0.3010\n",
            "Epoch 3/20\n",
            "7/7 [==============================] - 0s 10ms/step - loss: 1.8029 - accuracy: 0.2959\n",
            "Epoch 4/20\n",
            "7/7 [==============================] - 0s 9ms/step - loss: 1.7861 - accuracy: 0.2755\n",
            "Epoch 5/20\n",
            "7/7 [==============================] - 0s 9ms/step - loss: 1.7741 - accuracy: 0.3520\n",
            "Epoch 6/20\n",
            "7/7 [==============================] - 0s 9ms/step - loss: 1.7041 - accuracy: 0.3571\n",
            "Epoch 7/20\n",
            "7/7 [==============================] - 0s 9ms/step - loss: 1.6179 - accuracy: 0.3367\n",
            "Epoch 8/20\n",
            "7/7 [==============================] - 0s 9ms/step - loss: 1.5905 - accuracy: 0.3878\n",
            "Epoch 9/20\n",
            "7/7 [==============================] - 0s 9ms/step - loss: 1.5439 - accuracy: 0.5000\n",
            "Epoch 10/20\n",
            "7/7 [==============================] - 0s 10ms/step - loss: 1.5050 - accuracy: 0.5459\n",
            "Epoch 11/20\n",
            "7/7 [==============================] - 0s 9ms/step - loss: 1.4491 - accuracy: 0.5408\n",
            "Epoch 12/20\n",
            "7/7 [==============================] - 0s 10ms/step - loss: 1.4552 - accuracy: 0.4796\n",
            "Epoch 13/20\n",
            "7/7 [==============================] - 0s 10ms/step - loss: 1.3902 - accuracy: 0.5816\n",
            "Epoch 14/20\n",
            "7/7 [==============================] - 0s 10ms/step - loss: 1.3840 - accuracy: 0.5408\n",
            "Epoch 15/20\n",
            "7/7 [==============================] - 0s 10ms/step - loss: 1.3554 - accuracy: 0.5612\n",
            "Epoch 16/20\n",
            "7/7 [==============================] - 0s 13ms/step - loss: 1.3150 - accuracy: 0.5714\n",
            "Epoch 17/20\n",
            "7/7 [==============================] - 0s 10ms/step - loss: 1.3246 - accuracy: 0.5408\n",
            "Epoch 18/20\n",
            "7/7 [==============================] - 0s 9ms/step - loss: 1.2855 - accuracy: 0.5867\n",
            "Epoch 19/20\n",
            "7/7 [==============================] - 0s 10ms/step - loss: 1.2592 - accuracy: 0.5714\n",
            "Epoch 20/20\n",
            "7/7 [==============================] - 0s 10ms/step - loss: 1.1901 - accuracy: 0.6122\n",
            "3/3 [==============================] - 0s 7ms/step - loss: 1.3495 - accuracy: 0.4235\n"
          ]
        }
      ]
    },
    {
      "cell_type": "code",
      "source": [],
      "metadata": {
        "id": "FMqiUS92FVl2"
      },
      "execution_count": null,
      "outputs": []
    }
  ]
}