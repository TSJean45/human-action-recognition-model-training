{
  "nbformat": 4,
  "nbformat_minor": 0,
  "metadata": {
    "colab": {
      "provenance": [],
      "mount_file_id": "1DznrTC1lExkUFNEmYl-ymBfkhDkh2wsf",
      "authorship_tag": "ABX9TyOQGRMfs964V+r1FBSebR0l"
    },
    "kernelspec": {
      "name": "python3",
      "display_name": "Python 3"
    },
    "language_info": {
      "name": "python"
    }
  },
  "cells": [
    {
      "cell_type": "code",
      "execution_count": 47,
      "metadata": {
        "id": "XG3OE65YTqHO"
      },
      "outputs": [],
      "source": [
        "import glob\n",
        "import json\n",
        "import os\n",
        "import ast\n",
        "import pandas as pd\n",
        "import numpy as np\n",
        "import math"
      ]
    },
    {
      "cell_type": "code",
      "source": [
        "path = '/content/drive/MyDrive/Dataset/angle/'\n",
        "dir_list = os.listdir(path)\n",
        "\n",
        "print(dir_list)"
      ],
      "metadata": {
        "colab": {
          "base_uri": "https://localhost:8080/"
        },
        "id": "R85o9_T4Ts3p",
        "outputId": "4beb86b3-c88c-4f66-ea82-c5d017ca5691"
      },
      "execution_count": 48,
      "outputs": [
        {
          "output_type": "stream",
          "name": "stdout",
          "text": [
            "['sit', 'walk', 'jump', 'clap', 'wave', 'stand', 'run', 'dataFrame.csv']\n"
          ]
        }
      ]
    },
    {
      "cell_type": "code",
      "source": [
        "def extract_angles_distance(file_path):\n",
        "    with open(file_path, 'r') as f:\n",
        "        data = json.load(f)\n",
        "    distance_list = []\n",
        "    angle_list = []\n",
        "    for frame in data[\"data\"]:\n",
        "        for distance in frame[\"distance\"][\"data\"]:\n",
        "            distance_list.append(float(distance[\"distance\"]))\n",
        "        for angle in frame[\"angle\"][\"data\"]:\n",
        "            angle_list.append(math.radians(float(angle[\"angle\"])))\n",
        "    combined_features = distance_list + angle_list\n",
        "    return combined_features"
      ],
      "metadata": {
        "id": "E3Yqm7f9CVVH"
      },
      "execution_count": 49,
      "outputs": []
    },
    {
      "cell_type": "code",
      "source": [
        "all_rows = []\n",
        "for action in dir_list:\n",
        "    path = '/content/drive/MyDrive/Dataset/angle/'+action\n",
        "    file = glob.glob(path+'/*.json')\n",
        "    for filename in file:\n",
        "        combined_features = extract_angles_distance(filename)\n",
        "        row = {'features': combined_features, 'action': action}\n",
        "        all_rows.append(row)\n",
        "data = pd.DataFrame(all_rows)    \n",
        "data.to_csv('/content/drive/MyDrive/Dataset/angle/dataFrame.csv', index=False)"
      ],
      "metadata": {
        "id": "AiucpkVRTwkh"
      },
      "execution_count": 50,
      "outputs": []
    },
    {
      "cell_type": "markdown",
      "source": [],
      "metadata": {
        "id": "8bHt7nLfCu3q"
      }
    }
  ]
}